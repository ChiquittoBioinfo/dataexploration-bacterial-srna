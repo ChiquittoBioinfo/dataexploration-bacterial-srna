{
 "cells": [
  {
   "attachments": {},
   "cell_type": "markdown",
   "metadata": {},
   "source": [
    "# Download do CoryneRegNet DB\n",
    "\n",
    "CoryneRegNet (https://www.exbio.wzw.tum.de/coryneregnet/)\n",
    "\n",
    "Reference database and analysis platform for corynebacterium transcription factors and gene regulatory networks"
   ]
  },
  {
   "cell_type": "code",
   "execution_count": 1,
   "metadata": {},
   "outputs": [
    {
     "name": "stdout",
     "output_type": "stream",
     "text": [
      "/home/alisson/work/github_chiquittobioinfo_srna\n"
     ]
    }
   ],
   "source": [
    "# Criar o diretorio\n",
    "\n",
    "!pwd\n",
    "!mkdir -pv ./data/CoryneRegNet/raw"
   ]
  },
  {
   "cell_type": "code",
   "execution_count": 12,
   "metadata": {},
   "outputs": [
    {
     "name": "stdout",
     "output_type": "stream",
     "text": [
      "/home/alisson/work/github_chiquittobioinfo_srna/data/CoryneRegNet/raw\n",
      "mkdir: created directory 'AllOrganismsFiles'\n",
      "mkdir: created directory 'AllOrganismsFiles/tmp'\n",
      "/home/alisson/work/github_chiquittobioinfo_srna\n",
      "/home/alisson/work/github_chiquittobioinfo_srna\n"
     ]
    }
   ],
   "source": [
    "# Download dos arquivos\n",
    "\n",
    "%cd ./data/CoryneRegNet/raw\n",
    "\n",
    "![ ! -f AllOrganismsFiles.zip ] && wget --no-check-certificate \\\n",
    "  https://www.exbio.wzw.tum.de/coryneregnet/downloadFiles.htm?fileName=AllOrganismsFiles.zip -O AllOrganismsFiles.zip\n",
    "\n",
    "!mkdir -pv AllOrganismsFiles/tmp\n",
    "!unzip -q AllOrganismsFiles.zip -d AllOrganismsFiles/tmp\n",
    "\n",
    "![ ! -f AllOrganismsFiles.tar.xz ] && tar --exclude='*.zip' -cf - AllOrganismsFiles/tmp/* | xz -k9e > AllOrganismsFiles.tar.xz\n",
    "\n",
    "!mv AllOrganismsFiles/tmp/*{_rna,_rna_regulation}.csv AllOrganismsFiles\n",
    "!rm -rf AllOrganismsFiles/tmp\n",
    "\n",
    "%cd -\n",
    "!pwd\n"
   ]
  },
  {
   "attachments": {},
   "cell_type": "markdown",
   "metadata": {},
   "source": [
    "# Analisando arquivos *_rna.csv"
   ]
  },
  {
   "cell_type": "code",
   "execution_count": 18,
   "metadata": {},
   "outputs": [
    {
     "name": "stdout",
     "output_type": "stream",
     "text": [
      "-rw-rw-r-- 1 alisson alisson 4,9K jun  9  2020  ./data/CoryneRegNet/raw/AllOrganismsFiles/C_d_NCTC_13129_rna.csv\n",
      "-rw-rw-r-- 1 alisson alisson  13K jun  9  2020  ./data/CoryneRegNet/raw/AllOrganismsFiles/C_e_YS-314_rna.csv\n",
      "-rw-rw-r-- 1 alisson alisson 153K jun  9  2020 './data/CoryneRegNet/raw/AllOrganismsFiles/C_g_DSM_20300_=_ATCC_13032_rna.csv'\n",
      "-rw-rw-r-- 1 alisson alisson 7,1K jun  9  2020 './data/CoryneRegNet/raw/AllOrganismsFiles/C_j_K411_=_NCTC_11915_rna.csv'\n",
      "-rw-rw-r-- 1 alisson alisson 1,2K jun  9  2020  ./data/CoryneRegNet/raw/AllOrganismsFiles/C_p_1002B_rna.csv\n",
      "-rw-rw-r-- 1 alisson alisson 1,5K jun  9  2020  ./data/CoryneRegNet/raw/AllOrganismsFiles/C_u_NCTC7910_rna.csv\n"
     ]
    }
   ],
   "source": [
    "!ls -lah ./data/CoryneRegNet/raw/AllOrganismsFiles/*_rna.csv"
   ]
  },
  {
   "cell_type": "code",
   "execution_count": 19,
   "metadata": {},
   "outputs": [
    {
     "name": "stdout",
     "output_type": "stream",
     "text": [
      "/home/alisson/work/github_chiquittobioinfo_srna/data/CoryneRegNet\n",
      "  1610 CoryneRegNet_rna_exp.fa\n",
      "  1844 CoryneRegNet_rna.fa\n",
      "   234 CoryneRegNet_rna_pred.fa\n",
      "  3688 total\n",
      "/home/alisson/work/github_chiquittobioinfo_srna\n"
     ]
    }
   ],
   "source": [
    "# ./data/CoryneRegNet/raw/AllOrganismsFiles/C_d_NCTC_13129_rna.csv\n",
    "# ./data/CoryneRegNet/raw/AllOrganismsFiles/C_e_YS-314_rna.csv\n",
    "# ./data/CoryneRegNet/raw/AllOrganismsFiles/C_g_DSM_20300_=_ATCC_13032_rna.csv\n",
    "# ./data/CoryneRegNet/raw/AllOrganismsFiles/C_j_K411_=_NCTC_11915_rna.csv\n",
    "# ./data/CoryneRegNet/raw/AllOrganismsFiles/C_p_1002B_rna.csv\n",
    "# ./data/CoryneRegNet/raw/AllOrganismsFiles/C_u_NCTC7910_rna.csv\n",
    "\n",
    "%cd ./data/CoryneRegNet\n",
    "!rm CoryneRegNet_rna.fa CoryneRegNet_rna_exp.fa CoryneRegNet_rna_pred.fa &> /dev/null\n",
    "\n",
    "# Experimental + Predicted\n",
    "!touch CoryneRegNet_rna.fa\n",
    "!awk 'BEGIN {FS=\"\\t\"} { if (NR > 1) { print \">\" $1 \"\\n\" $11 } }' raw/AllOrganismsFiles/C_d_NCTC_13129_rna.csv >> CoryneRegNet_rna.fa\n",
    "!awk 'BEGIN {FS=\"\\t\"} { if (NR > 1) { print \">\" $1 \"\\n\" $11 } }' raw/AllOrganismsFiles/C_e_YS-314_rna.csv >> CoryneRegNet_rna.fa\n",
    "!awk 'BEGIN {FS=\"\\t\"} { if (NR > 1) { print \">\" $1 \"\\n\" $11 } }' raw/AllOrganismsFiles/C_g_DSM_20300_=_ATCC_13032_rna.csv >> CoryneRegNet_rna.fa\n",
    "!awk 'BEGIN {FS=\"\\t\"} { if (NR > 1) { print \">\" $1 \"\\n\" $11 } }' raw/AllOrganismsFiles/C_j_K411_=_NCTC_11915_rna.csv >> CoryneRegNet_rna.fa\n",
    "!awk 'BEGIN {FS=\"\\t\"} { if (NR > 1) { print \">\" $1 \"\\n\" $11 } }' raw/AllOrganismsFiles/C_p_1002B_rna.csv >> CoryneRegNet_rna.fa\n",
    "!awk 'BEGIN {FS=\"\\t\"} { if (NR > 1) { print \">\" $1 \"\\n\" $11 } }' raw/AllOrganismsFiles/C_u_NCTC7910_rna.csv >> CoryneRegNet_rna.fa\n",
    "\n",
    "# Experimental\n",
    "!touch CoryneRegNet_rna_exp.fa\n",
    "!awk 'BEGIN {FS=\"\\t\"} { if ($2 == \"experimental\") { print \">\" $1 \"\\n\" $11 } }' raw/AllOrganismsFiles/C_d_NCTC_13129_rna.csv >> CoryneRegNet_rna_exp.fa\n",
    "!awk 'BEGIN {FS=\"\\t\"} { if ($2 == \"experimental\") { print \">\" $1 \"\\n\" $11 } }' raw/AllOrganismsFiles/C_e_YS-314_rna.csv >> CoryneRegNet_rna_exp.fa\n",
    "!awk 'BEGIN {FS=\"\\t\"} { if ($2 == \"experimental\") { print \">\" $1 \"\\n\" $11 } }' raw/AllOrganismsFiles/C_g_DSM_20300_=_ATCC_13032_rna.csv >> CoryneRegNet_rna_exp.fa\n",
    "!awk 'BEGIN {FS=\"\\t\"} { if ($2 == \"experimental\") { print \">\" $1 \"\\n\" $11 } }' raw/AllOrganismsFiles/C_j_K411_=_NCTC_11915_rna.csv >> CoryneRegNet_rna_exp.fa\n",
    "!awk 'BEGIN {FS=\"\\t\"} { if ($2 == \"experimental\") { print \">\" $1 \"\\n\" $11 } }' raw/AllOrganismsFiles/C_p_1002B_rna.csv >> CoryneRegNet_rna_exp.fa\n",
    "!awk 'BEGIN {FS=\"\\t\"} { if ($2 == \"experimental\") { print \">\" $1 \"\\n\" $11 } }' raw/AllOrganismsFiles/C_u_NCTC7910_rna.csv >> CoryneRegNet_rna_exp.fa\n",
    "\n",
    "# Predicted\n",
    "!touch CoryneRegNet_rna_pred.fa\n",
    "!awk 'BEGIN {FS=\"\\t\"} { if (substr($2,1,9) == \"predicted\") { print \">\" $1 \"\\n\" $11 } }' raw/AllOrganismsFiles/C_d_NCTC_13129_rna.csv >> CoryneRegNet_rna_pred.fa\n",
    "!awk 'BEGIN {FS=\"\\t\"} { if (substr($2,1,9) == \"predicted\") { print \">\" $1 \"\\n\" $11 } }' raw/AllOrganismsFiles/C_e_YS-314_rna.csv >> CoryneRegNet_rna_pred.fa\n",
    "!awk 'BEGIN {FS=\"\\t\"} { if (substr($2,1,9) == \"predicted\") { print \">\" $1 \"\\n\" $11 } }' raw/AllOrganismsFiles/C_g_DSM_20300_=_ATCC_13032_rna.csv >> CoryneRegNet_rna_pred.fa\n",
    "!awk 'BEGIN {FS=\"\\t\"} { if (substr($2,1,9) == \"predicted\") { print \">\" $1 \"\\n\" $11 } }' raw/AllOrganismsFiles/C_j_K411_=_NCTC_11915_rna.csv >> CoryneRegNet_rna_pred.fa\n",
    "!awk 'BEGIN {FS=\"\\t\"} { if (substr($2,1,9) == \"predicted\") { print \">\" $1 \"\\n\" $11 } }' raw/AllOrganismsFiles/C_p_1002B_rna.csv >> CoryneRegNet_rna_pred.fa\n",
    "!awk 'BEGIN {FS=\"\\t\"} { if (substr($2,1,9) == \"predicted\") { print \">\" $1 \"\\n\" $11 } }' raw/AllOrganismsFiles/C_u_NCTC7910_rna.csv >> CoryneRegNet_rna_pred.fa\n",
    "\n",
    "!wc -l CoryneRegNet_rna*.fa\n",
    "\n",
    "%cd -"
   ]
  },
  {
   "cell_type": "code",
   "execution_count": 17,
   "metadata": {},
   "outputs": [
    {
     "name": "stdout",
     "output_type": "stream",
     "text": [
      "/home/alisson/work/github_chiquittobioinfo_srna/data/CoryneRegNet\n",
      "  1610 CoryneRegNet_rna_exp.fa\n",
      "  1844 CoryneRegNet_rna.fa\n",
      "   234 CoryneRegNet_rna_pred.fa\n",
      "     6 CoryneRegNet_rna_test.fa\n",
      "  3694 total\n",
      "/home/alisson/work/github_chiquittobioinfo_srna\n"
     ]
    }
   ],
   "source": [
    "%cd ./data/CoryneRegNet\n",
    "!rm CoryneRegNet_rna_test.fa &> /dev/null\n",
    "\n",
    "# Test\n",
    "!touch CoryneRegNet_rna_test.fa\n",
    "!awk 'BEGIN {FS=\"\\t\"} { if (($2 != \"experimental\") && (substr($2,1,9) != \"predicted\")) { print $0 } }' raw/AllOrganismsFiles/C_d_NCTC_13129_rna.csv >> CoryneRegNet_rna_test.fa\n",
    "!awk 'BEGIN {FS=\"\\t\"} { if (($2 != \"experimental\") && (substr($2,1,9) != \"predicted\")) { print $0 } }' raw/AllOrganismsFiles/C_e_YS-314_rna.csv >> CoryneRegNet_rna_test.fa\n",
    "!awk 'BEGIN {FS=\"\\t\"} { if (($2 != \"experimental\") && (substr($2,1,9) != \"predicted\")) { print $0 } }' raw/AllOrganismsFiles/C_g_DSM_20300_=_ATCC_13032_rna.csv >> CoryneRegNet_rna_test.fa\n",
    "!awk 'BEGIN {FS=\"\\t\"} { if (($2 != \"experimental\") && (substr($2,1,9) != \"predicted\")) { print $0 } }' raw/AllOrganismsFiles/C_j_K411_=_NCTC_11915_rna.csv >> CoryneRegNet_rna_test.fa\n",
    "!awk 'BEGIN {FS=\"\\t\"} { if (($2 != \"experimental\") && (substr($2,1,9) != \"predicted\")) { print $0 } }' raw/AllOrganismsFiles/C_p_1002B_rna.csv >> CoryneRegNet_rna_test.fa\n",
    "!awk 'BEGIN {FS=\"\\t\"} { if (($2 != \"experimental\") && (substr($2,1,9) != \"predicted\")) { print $0 } }' raw/AllOrganismsFiles/C_u_NCTC7910_rna.csv >> CoryneRegNet_rna_test.fa\n",
    "\n",
    "!wc -l CoryneRegNet_rna*.fa\n",
    "\n",
    "%cd -"
   ]
  },
  {
   "attachments": {},
   "cell_type": "markdown",
   "metadata": {},
   "source": [
    "# Analisando arquivos *_rna_regulation.csv\n",
    "\n",
    "Não foram encontrados sequências nos arquivos"
   ]
  },
  {
   "cell_type": "code",
   "execution_count": 19,
   "metadata": {},
   "outputs": [
    {
     "name": "stdout",
     "output_type": "stream",
     "text": [
      "-rw-rw-r-- 1 alisson alisson 121K jun  9  2020  ./data/CoryneRegNet/raw/AllOrganismsFiles/C_d_NCTC_13129_rna_regulation.csv\n",
      "-rw-rw-r-- 1 alisson alisson 299K jun  9  2020  ./data/CoryneRegNet/raw/AllOrganismsFiles/C_e_YS-314_rna_regulation.csv\n",
      "-rw-rw-r-- 1 alisson alisson 3,6M jun  9  2020 './data/CoryneRegNet/raw/AllOrganismsFiles/C_g_DSM_20300_=_ATCC_13032_rna_regulation.csv'\n",
      "-rw-rw-r-- 1 alisson alisson 182K jun  9  2020 './data/CoryneRegNet/raw/AllOrganismsFiles/C_j_K411_=_NCTC_11915_rna_regulation.csv'\n",
      "-rw-rw-r-- 1 alisson alisson  28K jun  9  2020  ./data/CoryneRegNet/raw/AllOrganismsFiles/C_p_1002B_rna_regulation.csv\n",
      "-rw-rw-r-- 1 alisson alisson  41K jun  9  2020  ./data/CoryneRegNet/raw/AllOrganismsFiles/C_u_NCTC7910_rna_regulation.csv\n"
     ]
    }
   ],
   "source": [
    "!ls -lah ./data/CoryneRegNet/raw/AllOrganismsFiles/*_rna_regulation.csv"
   ]
  }
 ],
 "metadata": {
  "kernelspec": {
   "display_name": "Python 3",
   "language": "python",
   "name": "python3"
  },
  "language_info": {
   "codemirror_mode": {
    "name": "ipython",
    "version": 3
   },
   "file_extension": ".py",
   "mimetype": "text/x-python",
   "name": "python",
   "nbconvert_exporter": "python",
   "pygments_lexer": "ipython3",
   "version": "3.10.9"
  },
  "orig_nbformat": 4
 },
 "nbformat": 4,
 "nbformat_minor": 2
}
