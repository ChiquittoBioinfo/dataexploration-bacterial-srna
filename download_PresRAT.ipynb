{
 "cells": [
  {
   "attachments": {},
   "cell_type": "markdown",
   "metadata": {},
   "source": [
    "# Download do PresRAT DB\n",
    "\n",
    "PresRAT (http://www.hpppi.iicb.res.in/presrat/index.html)\n",
    "\n",
    "PresRAT aims to predict potential bacterial sRNA and the potential target of that sRNA against a bacterial genome containing mRNA sequences. With an added advantage PresRAT can build and perform molecular dynamics simulation on 3D models these sRNA and sRNA-mRNA bound duplex regions.\n"
   ]
  },
  {
   "cell_type": "code",
   "execution_count": 1,
   "metadata": {},
   "outputs": [
    {
     "name": "stdout",
     "output_type": "stream",
     "text": [
      "/home/alisson/work/github_chiquittobioinfo_srna\n",
      "mkdir: created directory './data/PresRAT'\n",
      "mkdir: created directory './data/PresRAT/raw'\n"
     ]
    }
   ],
   "source": [
    "# Criar o diretorio\n",
    "\n",
    "!pwd\n",
    "!mkdir -pv ./data/PresRAT/raw"
   ]
  },
  {
   "cell_type": "code",
   "execution_count": 2,
   "metadata": {},
   "outputs": [
    {
     "name": "stdout",
     "output_type": "stream",
     "text": [
      "/home/alisson/work/github_chiquittobioinfo_srna/data/PresRAT/raw\n",
      "--2023-03-11 14:55:18--  http://www.hpppi.iicb.res.in/presrat/upload/sRNA_total.100cl_1.fasta\n",
      "Resolving www.hpppi.iicb.res.in (www.hpppi.iicb.res.in)... 14.139.223.103\n",
      "Connecting to www.hpppi.iicb.res.in (www.hpppi.iicb.res.in)|14.139.223.103|:80... connected.\n",
      "HTTP request sent, awaiting response... 200 OK\n",
      "Length: 217456 (212K)\n",
      "Saving to: ‘sRNA_total.100cl_1.fasta’\n",
      "\n",
      "sRNA_total.100cl_1. 100%[===================>] 212,36K  20,8KB/s    in 10s     \n",
      "\n",
      "2023-03-11 14:55:30 (20,8 KB/s) - ‘sRNA_total.100cl_1.fasta’ saved [217456/217456]\n",
      "\n",
      "sRNA_total.100cl_1.fasta (1/1)\n",
      "  100 %        52,2 KiB / 212,4 KiB = 0,246                                    \n",
      "/home/alisson/work/github_chiquittobioinfo_srna\n",
      "/home/alisson/work/github_chiquittobioinfo_srna\n"
     ]
    }
   ],
   "source": [
    "# Download dos arquivos\n",
    "\n",
    "%cd ./data/PresRAT/raw\n",
    "\n",
    "![ ! -f interaction_NPInterv4.txt.gz ] && wget --no-check-certificate \\\n",
    "  http://www.hpppi.iicb.res.in/presrat/upload/sRNA_total.100cl_1.fasta\n",
    "\n",
    "![ ! -f sRNA_total.100cl_1.fasta.xz ] && xz -czk9ve -T 0 sRNA_total.100cl_1.fasta > sRNA_total.100cl_1.fasta.xz\n",
    "\n",
    "%cd -\n",
    "!pwd\n"
   ]
  },
  {
   "cell_type": "code",
   "execution_count": 3,
   "metadata": {},
   "outputs": [
    {
     "name": "stdout",
     "output_type": "stream",
     "text": [
      "total 280K\n",
      "drwxrwxr-x 2 alisson alisson 4,0K mar 11 14:55 .\n",
      "drwxrwxr-x 3 alisson alisson 4,0K mar 11 14:55 ..\n",
      "-rw-rw-r-- 1 alisson alisson 213K abr  8  2021 sRNA_total.100cl_1.fasta\n",
      "-rw-rw-r-- 1 alisson alisson  53K mar 11 14:55 sRNA_total.100cl_1.fasta.xz\n"
     ]
    }
   ],
   "source": [
    "!ls -lah ./data/PresRAT/raw"
   ]
  }
 ],
 "metadata": {
  "kernelspec": {
   "display_name": "Python 3",
   "language": "python",
   "name": "python3"
  },
  "language_info": {
   "codemirror_mode": {
    "name": "ipython",
    "version": 3
   },
   "file_extension": ".py",
   "mimetype": "text/x-python",
   "name": "python",
   "nbconvert_exporter": "python",
   "pygments_lexer": "ipython3",
   "version": "3.10.9"
  },
  "orig_nbformat": 4
 },
 "nbformat": 4,
 "nbformat_minor": 2
}
