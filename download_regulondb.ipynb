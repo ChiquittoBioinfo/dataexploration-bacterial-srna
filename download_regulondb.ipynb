{
 "cells": [
  {
   "attachments": {},
   "cell_type": "markdown",
   "metadata": {},
   "source": [
    "# Download do RegulonDB\n",
    "\n",
    "* RegulonDB (https://regulondb.ccg.unam.mx)\n"
   ]
  },
  {
   "cell_type": "code",
   "execution_count": 1,
   "metadata": {},
   "outputs": [
    {
     "name": "stdout",
     "output_type": "stream",
     "text": [
      "/home/alisson/work/github_chiquittobioinfo_srna\n",
      "mkdir: created directory './data/RegulonDB'\n",
      "mkdir: created directory './data/RegulonDB/raw'\n"
     ]
    }
   ],
   "source": [
    "# Criar o diretorio\n",
    "\n",
    "!pwd\n",
    "!mkdir -pv ./data/RegulonDB/raw"
   ]
  },
  {
   "cell_type": "code",
   "execution_count": 2,
   "metadata": {},
   "outputs": [
    {
     "name": "stdout",
     "output_type": "stream",
     "text": [
      "--2023-03-10 17:46:57--  https://regulondb.ccg.unam.mx/menu/download/datasets/files/E_coli_K12_MG1655_U00096.3.txt\n",
      "Resolving regulondb.ccg.unam.mx (regulondb.ccg.unam.mx)... 132.248.34.160\n",
      "Connecting to regulondb.ccg.unam.mx (regulondb.ccg.unam.mx)|132.248.34.160|:443... connected.\n",
      "WARNING: cannot verify regulondb.ccg.unam.mx's certificate, issued by ‘CN=GlobalSign RSA OV SSL CA 2018,O=GlobalSign nv-sa,C=BE’:\n",
      "  Unable to locally verify the issuer's authority.\n",
      "HTTP request sent, awaiting response... 200 OK\n",
      "Length: 4703569 (4,5M) [text/plain]\n",
      "Saving to: ‘./data/RegulonDB/raw/E_coli_K12_MG1655_U00096.3.txt’\n",
      "\n",
      "E_coli_K12_MG1655_U 100%[===================>]   4,49M   222KB/s    in 30s     \n",
      "\n",
      "2023-03-10 17:47:28 (155 KB/s) - ‘./data/RegulonDB/raw/E_coli_K12_MG1655_U00096.3.txt’ saved [4703569/4703569]\n",
      "\n",
      "--2023-03-10 17:47:29--  https://regulondb.ccg.unam.mx/menu/download/datasets/files/Gene_sequence.txt\n",
      "Resolving regulondb.ccg.unam.mx (regulondb.ccg.unam.mx)... 132.248.34.160\n",
      "Connecting to regulondb.ccg.unam.mx (regulondb.ccg.unam.mx)|132.248.34.160|:443... connected.\n",
      "WARNING: cannot verify regulondb.ccg.unam.mx's certificate, issued by ‘CN=GlobalSign RSA OV SSL CA 2018,O=GlobalSign nv-sa,C=BE’:\n",
      "  Unable to locally verify the issuer's authority.\n",
      "HTTP request sent, awaiting response... 200 OK\n",
      "Length: 4725757 (4,5M) [text/plain]\n",
      "Saving to: ‘./data/RegulonDB/raw/Gene_sequence.txt’\n",
      "\n",
      "Gene_sequence.txt   100%[===================>]   4,51M   266KB/s    in 18s     \n",
      "\n",
      "2023-03-10 17:47:48 (252 KB/s) - ‘./data/RegulonDB/raw/Gene_sequence.txt’ saved [4725757/4725757]\n",
      "\n",
      "--2023-03-10 17:47:48--  https://regulondb.ccg.unam.mx/menu/download/datasets/files/sRNASet.txt\n",
      "Resolving regulondb.ccg.unam.mx (regulondb.ccg.unam.mx)... 132.248.34.160\n",
      "Connecting to regulondb.ccg.unam.mx (regulondb.ccg.unam.mx)|132.248.34.160|:443... connected.\n",
      "WARNING: cannot verify regulondb.ccg.unam.mx's certificate, issued by ‘CN=GlobalSign RSA OV SSL CA 2018,O=GlobalSign nv-sa,C=BE’:\n",
      "  Unable to locally verify the issuer's authority.\n",
      "HTTP request sent, awaiting response... 200 OK\n",
      "Length: 18500 (18K) [text/plain]\n",
      "Saving to: ‘./data/RegulonDB/raw/sRNASet.txt’\n",
      "\n",
      "sRNASet.txt         100%[===================>]  18,07K  --.-KB/s    in 0s      \n",
      "\n",
      "2023-03-10 17:47:49 (383 MB/s) - ‘./data/RegulonDB/raw/sRNASet.txt’ saved [18500/18500]\n",
      "\n"
     ]
    }
   ],
   "source": [
    "# Download dos arquivos\n",
    "\n",
    "# Acessar o site > Downloads > Experimental Datasets\n",
    "\n",
    "# E. coli K-12 genome sequence raw format\n",
    "![ ! -f ./data/RegulonDB/raw/E_coli_K12_MG1655_U00096.3.txt ] && \\\n",
    "  wget --no-check-certificate https://regulondb.ccg.unam.mx/menu/download/datasets/files/E_coli_K12_MG1655_U00096.3.txt -P ./data/RegulonDB/raw\n",
    "\n",
    "# Gene Sequence\n",
    "![ ! -f ./data/RegulonDB/raw/Gene_sequence.txt ] && \\\n",
    "  wget --no-check-certificate https://regulondb.ccg.unam.mx/menu/download/datasets/files/Gene_sequence.txt -P ./data/RegulonDB/raw\n",
    "\n",
    "# Gene - Product > sRNA genes\n",
    "![ ! -f ./data/RegulonDB/raw/sRNASet.txt ] && \\\n",
    "  wget --no-check-certificate https://regulondb.ccg.unam.mx/menu/download/datasets/files/sRNASet.txt -P ./data/RegulonDB/raw"
   ]
  },
  {
   "cell_type": "code",
   "execution_count": 3,
   "metadata": {},
   "outputs": [
    {
     "name": "stdout",
     "output_type": "stream",
     "text": [
      "./data/RegulonDB/raw/E_coli_K12_MG1655_U00096.3.txt (1/1)\n",
      "  100 %   1.227,4 KiB / 4.593,3 KiB = 0,267   1,2 MiB/s       0:03             \n",
      "./data/RegulonDB/raw/Gene_sequence.txt (1/1)\n",
      "  100 %   1.159,3 KiB / 4.615,0 KiB = 0,251   1,3 MiB/s       0:03             \n",
      "./data/RegulonDB/raw/sRNASet.txt (1/1)\n",
      "  100 %          5.012 B / 18,1 KiB = 0,271                                    \n"
     ]
    }
   ],
   "source": [
    "# Compactar para commit no git\n",
    "![ ! -f ./data/RegulonDB/raw/E_coli_K12_MG1655_U00096.3.txt.xz ] && \\\n",
    "  xz -czk9ve -T 0 ./data/RegulonDB/raw/E_coli_K12_MG1655_U00096.3.txt > ./data/RegulonDB/raw/E_coli_K12_MG1655_U00096.3.txt.xz\n",
    "\n",
    "![ ! -f ./data/RegulonDB/raw/Gene_sequence.txt.xz ] && \\\n",
    "  xz -czk9ve -T 0 ./data/RegulonDB/raw/Gene_sequence.txt > ./data/RegulonDB/raw/Gene_sequence.txt.xz\n",
    "\n",
    "![ ! -f ./data/RegulonDB/raw/sRNASet.txt.xz ] && \\\n",
    "  xz -czk9ve -T 0 ./data/RegulonDB/raw/sRNASet.txt > ./data/RegulonDB/raw/sRNASet.txt.xz"
   ]
  },
  {
   "cell_type": "code",
   "execution_count": 4,
   "metadata": {},
   "outputs": [
    {
     "name": "stdout",
     "output_type": "stream",
     "text": [
      "total 12M\n",
      "drwxrwxr-x 2 alisson alisson 4,0K mar 10 17:47 .\n",
      "drwxrwxr-x 3 alisson alisson 4,0K mar 10 17:46 ..\n",
      "-rw-rw-r-- 1 alisson alisson 4,5M jun 10  2020 E_coli_K12_MG1655_U00096.3.txt\n",
      "-rw-rw-r-- 1 alisson alisson 1,2M mar 10 17:47 E_coli_K12_MG1655_U00096.3.txt.xz\n",
      "-rw-rw-r-- 1 alisson alisson 4,6M dez 13 13:54 Gene_sequence.txt\n",
      "-rw-rw-r-- 1 alisson alisson 1,2M mar 10 17:47 Gene_sequence.txt.xz\n",
      "-rw-rw-r-- 1 alisson alisson  19K dez 13 13:54 sRNASet.txt\n",
      "-rw-rw-r-- 1 alisson alisson 4,9K mar 10 17:47 sRNASet.txt.xz\n"
     ]
    }
   ],
   "source": [
    "!ls -lah ./data/RegulonDB/raw"
   ]
  },
  {
   "attachments": {},
   "cell_type": "markdown",
   "metadata": {},
   "source": [
    "# Obter as sequências\n",
    "\n",
    "Será utilizado o bedtools para obter as sequências. Para isso vamos precisar criar um arquivo com as coordenadas no formato .bed.\n",
    "\n",
    "A BED file (.bed) is a tab-delimited text file that defines a feature track. The BED file format is described on the UCSC Genome Bioinformatics web site: <http://genome.ucsc.edu/FAQ/FAQformat>.  \n",
    "Ref: <https://software.broadinstitute.org/software/igv/BED>\n",
    "\n",
    "Um arquivo BED tem as colunas `chrom`, `chromStart`, `chromEnd`, `name`, `score` e `strand` delimitadas por tab."
   ]
  },
  {
   "cell_type": "code",
   "execution_count": 5,
   "metadata": {},
   "outputs": [
    {
     "name": "stdout",
     "output_type": "stream",
     "text": [
      "111 ./data/RegulonDB/sRNASet.bed\n"
     ]
    }
   ],
   "source": [
    "# O arquivo de entrada possui um cabecalho com instrucoes\n",
    "# O tail 43 foi usado para ignorar as primeiras 43 linhas (cabecalho)\n",
    "# Foi gerado o bed com um -1 no chromStart para corresponder com os outros arquivos do dataset (ex.: Gene_Sequence.csv)\n",
    "\n",
    "!tail -n +43 ./data/RegulonDB/raw/sRNASet.txt | awk 'BEGIN { FS=\"\\t\"; OFS=\"\\t\" } { if($6==\"forward\") { print \"E_coli_K12_MG1655_U00096.3\",$4-1,$5,$1,1,\"+\" } }' > ./data/RegulonDB/sRNASet.bed\n",
    "!tail -n +43 ./data/RegulonDB/raw/sRNASet.txt | awk 'BEGIN { FS=\"\\t\"; OFS=\"\\t\" } { if($6==\"reverse\") { print \"E_coli_K12_MG1655_U00096.3\",$4-1,$5,$1,1,\"-\" } }' >> ./data/RegulonDB/sRNASet.bed\n",
    "!wc -l ./data/RegulonDB/sRNASet.bed"
   ]
  },
  {
   "cell_type": "code",
   "execution_count": 6,
   "metadata": {},
   "outputs": [
    {
     "name": "stdout",
     "output_type": "stream",
     "text": [
      "rm: cannot remove './data/RegulonDB/raw/E_coli_K12_MG1655_U00096.3.txt.fai': No such file or directory\n",
      "index file ./data/RegulonDB/raw/E_coli_K12_MG1655_U00096.3.txt.fai not found, generating...\n"
     ]
    }
   ],
   "source": [
    "# Obter as sequencias\n",
    "!rm ./data/RegulonDB/raw/E_coli_K12_MG1655_U00096.3.txt.fai\n",
    "!bedtools getfasta -s -fi ./data/RegulonDB/raw/E_coli_K12_MG1655_U00096.3.txt -bed ./data/RegulonDB/sRNASet.bed -name -bedOut > ./data/RegulonDB/sRNASet.tsv"
   ]
  },
  {
   "cell_type": "code",
   "execution_count": 7,
   "metadata": {},
   "outputs": [],
   "source": [
    "# Converter TSV para FASTA\n",
    "!awk '{print \">\" $4 \"\\n\" $7}' ./data/RegulonDB/sRNASet.tsv > ./data/RegulonDB/sRNASet.fa"
   ]
  },
  {
   "cell_type": "code",
   "execution_count": 8,
   "metadata": {},
   "outputs": [
    {
     "name": "stdout",
     "output_type": "stream",
     "text": [
      "removed './data/RegulonDB/sRNASet.bed'\n",
      "removed './data/RegulonDB/sRNASet.tsv'\n"
     ]
    }
   ],
   "source": [
    "# Remover arquivos temporarios\n",
    "!rm -v ./data/RegulonDB/sRNASet.{bed,tsv}"
   ]
  }
 ],
 "metadata": {
  "kernelspec": {
   "display_name": "Python 3",
   "language": "python",
   "name": "python3"
  },
  "language_info": {
   "codemirror_mode": {
    "name": "ipython",
    "version": 3
   },
   "file_extension": ".py",
   "mimetype": "text/x-python",
   "name": "python",
   "nbconvert_exporter": "python",
   "pygments_lexer": "ipython3",
   "version": "3.11.0"
  },
  "orig_nbformat": 4
 },
 "nbformat": 4,
 "nbformat_minor": 2
}
