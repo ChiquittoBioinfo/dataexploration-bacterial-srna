{
 "cells": [
  {
   "attachments": {},
   "cell_type": "markdown",
   "metadata": {},
   "source": [
    "# Download do SRD DB\n",
    "\n",
    "SRD: Staphylococcal Regulatory RNAs Database (http://srd.genouest.org/)\n",
    "\n",
    "SRD proposes a simplified and unified identifier for Staphylococcal regulatory RNAs (srn) based on the sRNA’s genetic location in S. aureus strain N315 which served as a reference. SRD provides a list of 575 srn potentially exempt of repeated sequences."
   ]
  },
  {
   "cell_type": "code",
   "execution_count": 1,
   "metadata": {},
   "outputs": [
    {
     "name": "stdout",
     "output_type": "stream",
     "text": [
      "/home/alisson/work/github_chiquittobioinfo_srna\n",
      "mkdir: created directory './data/SRD'\n",
      "mkdir: created directory './data/SRD/raw'\n"
     ]
    }
   ],
   "source": [
    "# Criar o diretorio\n",
    "\n",
    "!pwd\n",
    "!mkdir -pv ./data/SRD/raw"
   ]
  },
  {
   "cell_type": "code",
   "execution_count": 9,
   "metadata": {},
   "outputs": [
    {
     "name": "stdout",
     "output_type": "stream",
     "text": [
      "/home/alisson/work/github_chiquittobioinfo_srna/data/SRD/raw\n",
      "sRNA_JKD6008.fasta (1/1)\n",
      "  100 %        31,0 KiB / 119,5 KiB = 0,260                                    \n",
      "sRNA_N315.fasta (1/1)\n",
      "  100 %        29,4 KiB / 110,4 KiB = 0,266                                    \n",
      "sRNA_NCTC8325.fasta (1/1)\n",
      "  100 %        29,4 KiB / 113,2 KiB = 0,259                                    \n",
      "sRNA_Newman.fasta (1/1)\n",
      "  100 %        29,9 KiB / 114,4 KiB = 0,261                                    \n",
      "sRNA_USA300_FPR3757.fasta (1/1)\n",
      "  100 %        29,3 KiB / 114,2 KiB = 0,256                                    \n",
      "/home/alisson/work/github_chiquittobioinfo_srna\n",
      "/home/alisson/work/github_chiquittobioinfo_srna\n"
     ]
    }
   ],
   "source": [
    "# Download dos arquivos\n",
    "\n",
    "%cd ./data/SRD/raw\n",
    "\n",
    "# http://srd.genouest.org/raw//sRNA/sRNA_JKD6008.fasta\n",
    "# http://srd.genouest.org/raw//sRNA/sRNA_N315.fasta\n",
    "# http://srd.genouest.org/raw//sRNA/sRNA_NCTC8325.fasta\n",
    "# http://srd.genouest.org/raw//sRNA/sRNA_Newman.fasta\n",
    "# http://srd.genouest.org/raw//sRNA/sRNA_USA300_FPR3757.fasta\n",
    "\n",
    "![ ! -f sRNA_JKD6008.fasta ] && wget http://srd.genouest.org/raw//sRNA/sRNA_JKD6008.fasta\n",
    "![ ! -f sRNA_N315.fasta ] && wget http://srd.genouest.org/raw//sRNA/sRNA_N315.fasta\n",
    "![ ! -f sRNA_NCTC8325.fasta ] && wget http://srd.genouest.org/raw//sRNA/sRNA_NCTC8325.fasta\n",
    "![ ! -f sRNA_Newman.fasta ] && wget http://srd.genouest.org/raw//sRNA/sRNA_Newman.fasta\n",
    "![ ! -f sRNA_USA300_FPR3757.fasta ] && wget http://srd.genouest.org/raw//sRNA/sRNA_USA300_FPR3757.fasta\n",
    "\n",
    "![ ! -f sRNA_JKD6008.fasta.xz ] && xz -czk9ve -T 0 sRNA_JKD6008.fasta > sRNA_JKD6008.fasta.xz\n",
    "![ ! -f sRNA_N315.fasta.xz ] && xz -czk9ve -T 0 sRNA_N315.fasta > sRNA_N315.fasta.xz\n",
    "![ ! -f sRNA_NCTC8325.fasta.xz ] && xz -czk9ve -T 0 sRNA_NCTC8325.fasta > sRNA_NCTC8325.fasta.xz\n",
    "![ ! -f sRNA_Newman.fasta.xz ] && xz -czk9ve -T 0 sRNA_Newman.fasta > sRNA_Newman.fasta.xz\n",
    "![ ! -f sRNA_USA300_FPR3757.fasta.xz ] && xz -czk9ve -T 0 sRNA_USA300_FPR3757.fasta > sRNA_USA300_FPR3757.fasta.xz\n",
    "\n",
    "%cd -\n",
    "!pwd\n"
   ]
  },
  {
   "cell_type": "code",
   "execution_count": 10,
   "metadata": {},
   "outputs": [
    {
     "name": "stdout",
     "output_type": "stream",
     "text": [
      "total 748K\n",
      "drwxrwxr-x 2 alisson alisson 4,0K mar 10 17:46 .\n",
      "drwxrwxr-x 3 alisson alisson 4,0K mar 10 17:39 ..\n",
      "-rw-rw-r-- 1 alisson alisson 120K jul 11  2017 sRNA_JKD6008.fasta\n",
      "-rw-rw-r-- 1 alisson alisson  32K mar 10 17:46 sRNA_JKD6008.fasta.xz\n",
      "-rw-rw-r-- 1 alisson alisson 111K jul 11  2017 sRNA_N315.fasta\n",
      "-rw-rw-r-- 1 alisson alisson  30K mar 10 17:46 sRNA_N315.fasta.xz\n",
      "-rw-rw-r-- 1 alisson alisson 114K jul 11  2017 sRNA_NCTC8325.fasta\n",
      "-rw-rw-r-- 1 alisson alisson  30K mar 10 17:46 sRNA_NCTC8325.fasta.xz\n",
      "-rw-rw-r-- 1 alisson alisson 115K jul 11  2017 sRNA_Newman.fasta\n",
      "-rw-rw-r-- 1 alisson alisson  30K mar 10 17:46 sRNA_Newman.fasta.xz\n",
      "-rw-rw-r-- 1 alisson alisson 115K jul 11  2017 sRNA_USA300_FPR3757.fasta\n",
      "-rw-rw-r-- 1 alisson alisson  30K mar 10 17:46 sRNA_USA300_FPR3757.fasta.xz\n"
     ]
    }
   ],
   "source": [
    "!ls -lah ./data/SRD/raw"
   ]
  }
 ],
 "metadata": {
  "kernelspec": {
   "display_name": "Python 3",
   "language": "python",
   "name": "python3"
  },
  "language_info": {
   "codemirror_mode": {
    "name": "ipython",
    "version": 3
   },
   "file_extension": ".py",
   "mimetype": "text/x-python",
   "name": "python",
   "nbconvert_exporter": "python",
   "pygments_lexer": "ipython3",
   "version": "3.11.0"
  },
  "orig_nbformat": 4
 },
 "nbformat": 4,
 "nbformat_minor": 2
}
