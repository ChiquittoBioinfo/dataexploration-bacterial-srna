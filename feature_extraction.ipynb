{
 "cells": [
  {
   "attachments": {},
   "cell_type": "markdown",
   "metadata": {},
   "source": [
    "# Extração de features"
   ]
  },
  {
   "cell_type": "code",
   "execution_count": 1,
   "metadata": {},
   "outputs": [],
   "source": [
    "import os\n",
    "\n",
    "import pandas as pd\n",
    "\n",
    "import utils.feature_extraction as fe"
   ]
  },
  {
   "cell_type": "code",
   "execution_count": 2,
   "metadata": {},
   "outputs": [],
   "source": [
    "dsfiles = {\n",
    "  'PresRAT_sRNA' : ('data/PresRAT/raw/sRNA_total.100cl_1.fasta', 'data/PresRAT/sRNA_total.100cl_1.csv'),\n",
    "  'RegulonDB_sRNASet' : ('data/RegulonDB/sRNASet.fa', 'data/RegulonDB/sRNASet.csv'),\n",
    "  'SRD_sRNA_JKD6008' : ('data/SRD/raw/sRNA_JKD6008.fasta', 'data/SRD/sRNA_JKD6008.csv'),\n",
    "  'SRD_sRNA_N315' : ('data/SRD/raw/sRNA_N315.fasta', 'data/SRD/sRNA_N315.csv'),\n",
    "  'SRD_sRNA_NCTC8325' : ('data/SRD/raw/sRNA_NCTC8325.fasta', 'data/SRD/sRNA_NCTC8325.csv'),\n",
    "  'SRD_sRNA_Newman' : ('data/SRD/raw/sRNA_Newman.fasta', 'data/SRD/sRNA_Newman.csv'),\n",
    "  'SRD_sRNA_USA300_FPR3757' : ('data/SRD/raw/sRNA_USA300_FPR3757.fasta', 'data/SRD/sRNA_USA300_FPR3757.csv'),\n",
    "  'CoryneRegNet': ('data/CoryneRegNet/CoryneRegNet_rna.fa', 'data/CoryneRegNet/CoryneRegNet_rna.csv'),\n",
    "  'CoryneRegNet-exp': ('data/CoryneRegNet/CoryneRegNet_rna_exp.fa', 'data/CoryneRegNet/CoryneRegNet_rna_exp.csv'),\n",
    "  'CoryneRegNet-pred': ('data/CoryneRegNet/CoryneRegNet_rna_pred.fa', 'data/CoryneRegNet/CoryneRegNet_rna_pred.csv'),\n",
    "  'Rfam': ('data/Rfam/raw.fa', 'data/Rfam/raw.csv'),\n",
    "  'Rfam_bacteria': ('data/Rfam/bacteria.fa', 'data/Rfam/bacteria.csv')\n",
    "}"
   ]
  },
  {
   "cell_type": "code",
   "execution_count": 3,
   "metadata": {},
   "outputs": [
    {
     "name": "stdout",
     "output_type": "stream",
     "text": [
      "fe.convert_to_dna data/Rfam/bacteria.fa\n",
      "sed '/^[^>]/s/u/t/g' data/Rfam/bacteria.fa | sed '/^[^>]/s/U/T/g' > ./tmp/Rfam_bacteria_dna.fa\n",
      "fe.sequence_cleaner ./tmp/Rfam_bacteria_dna.fa\n",
      "fe.calc_length ./tmp/Rfam_bacteria_0.tmp\n",
      "printf \"nameseq\\tlength\\n\" > /tmp/tmpal_90c_c/tmp1.csv\n",
      "seqkit fx2tab -lin ./tmp/Rfam_bacteria_cleaned.fa >> /tmp/tmpal_90c_c/tmp1.csv\n",
      "awk 'BEGIN{FS=\"\\t\";OFS=\",\"} {print $1,$2}' /tmp/tmpal_90c_c/tmp1.csv > ./tmp/Rfam_bacteria_0.tmp\n",
      "fe.calc_kmers ./tmp/Rfam_bacteria_1.tmp\n",
      "[ -e ./tmp/Rfam_bacteria_1.tmp ] && rm ./tmp/Rfam_bacteria_1.tmp\n",
      "(echo 3 | (conda run -n mathfeature-terminal --no-capture-output python /home/alisson/work/MathFeature/methods/ExtractionTechniques.py -o ./tmp/Rfam_bacteria_1.tmp -l Rfam_bacteria -t kmer -seq 1 -i ./tmp/Rfam_bacteria_cleaned.fa > /dev/null))\n",
      "fe.calc_fickettScore ./tmp/Rfam_bacteria_2.tmp\n",
      "[ -e ./tmp/Rfam_bacteria_2.tmp ] && rm ./tmp/Rfam_bacteria_2.tmp\n",
      "conda run -n mathfeature-terminal python /home/alisson/work/MathFeature/methods/FickettScore.py -o ./tmp/Rfam_bacteria_2.tmp -l Rfam_bacteria -seq 1 -i ./tmp/Rfam_bacteria_cleaned.fa > /dev/null\n",
      "fe.calc_codingClass ./tmp/Rfam_bacteria_3.tmp\n",
      "[ -e ./tmp/Rfam_bacteria_3.tmp ] && rm ./tmp/Rfam_bacteria_3.tmp\n",
      "conda run -n mathfeature-terminal python /home/alisson/work/MathFeature/methods/CodingClass.py -o ./tmp/Rfam_bacteria_3.tmp -l Rfam_bacteria -i ./tmp/Rfam_bacteria_cleaned.fa > /dev/null\n",
      "fe.merge\n",
      "[ -e ./tmp/Rfam_bacteria_4.tmp ] && rm ./tmp/Rfam_bacteria_4.tmp\n",
      "(echo ./tmp/Rfam_bacteria_0.tmp;echo ./tmp/Rfam_bacteria_1.tmp;echo ./tmp/Rfam_bacteria_2.tmp;echo ./tmp/Rfam_bacteria_3.tmp) | (conda run -n mathfeature-terminal --no-capture-output python /home/alisson/work/MathFeature/preprocessing/concatenate.py -n 4 -o ./tmp/Rfam_bacteria_4.tmp) > /dev/null\n",
      "fe.rmfiles\n",
      "rm -v ./tmp/Rfam_bacteria_0.tmp ./tmp/Rfam_bacteria_1.tmp ./tmp/Rfam_bacteria_2.tmp ./tmp/Rfam_bacteria_3.tmp ./tmp/Rfam_bacteria_4.tmp\n",
      "removed './tmp/Rfam_bacteria_0.tmp'\n",
      "removed './tmp/Rfam_bacteria_1.tmp'\n",
      "removed './tmp/Rfam_bacteria_2.tmp'\n",
      "removed './tmp/Rfam_bacteria_3.tmp'\n",
      "removed './tmp/Rfam_bacteria_4.tmp'\n"
     ]
    }
   ],
   "source": [
    "def extraction_features(input, output, label):\n",
    "  if not os.path.isfile(output):\n",
    "    # with tempfile.TemporaryDirectory() as tmpdirname:\n",
    "    tmpdirname = './tmp'\n",
    "\n",
    "    tmp_files = list(map(lambda n: tmpdirname + '/' +\n",
    "                      label + '_' + str(n) + '.tmp', range(5)))\n",
    "    fasta_dna = tmpdirname + '/' + label + '_dna.fa'\n",
    "    fasta_cleaned = tmpdirname + '/' + label + '_cleaned.fa'\n",
    "\n",
    "    # prepare\n",
    "    fe.convert_to_dna(input, fasta_dna)\n",
    "    fe.sequence_cleaner(fasta_dna, fasta_cleaned, min_length=0)\n",
    "\n",
    "    # extract features\n",
    "    fe.calc_length(label, fasta_cleaned, tmp_files[0])\n",
    "    fe.calc_kmers(label, fasta_cleaned, tmp_files[1], size=3)\n",
    "    fe.calc_fickettScore(label, fasta_cleaned, tmp_files[2])\n",
    "    fe.calc_codingClass(label, fasta_cleaned, tmp_files[3])\n",
    "    fe.merge(tmp_files[:4], tmp_files[4])\n",
    "\n",
    "    # fe.rmfiles([fasta_dna, fasta_cleaned, output])\n",
    "\n",
    "    # to float precision\n",
    "    pd.read_csv(tmp_files[4])\\\n",
    "      .to_csv(output, index=False, float_format='%.5f')\n",
    "\n",
    "    fe.rmfiles(tmp_files)\n",
    "\n",
    "for k, (fa_input, csv_output) in dsfiles.items():\n",
    "  extraction_features(fa_input, csv_output, k)"
   ]
  }
 ],
 "metadata": {
  "kernelspec": {
   "display_name": "Python 3",
   "language": "python",
   "name": "python3"
  },
  "language_info": {
   "codemirror_mode": {
    "name": "ipython",
    "version": 3
   },
   "file_extension": ".py",
   "mimetype": "text/x-python",
   "name": "python",
   "nbconvert_exporter": "python",
   "pygments_lexer": "ipython3",
   "version": "3.10.9"
  },
  "orig_nbformat": 4
 },
 "nbformat": 4,
 "nbformat_minor": 2
}
